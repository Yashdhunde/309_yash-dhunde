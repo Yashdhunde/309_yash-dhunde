{
  "nbformat": 4,
  "nbformat_minor": 0,
  "metadata": {
    "colab": {
      "provenance": []
    },
    "kernelspec": {
      "name": "python3",
      "display_name": "Python 3"
    },
    "language_info": {
      "name": "python"
    }
  },
  "cells": [
    {
      "cell_type": "code",
      "execution_count": null,
      "metadata": {
        "colab": {
          "base_uri": "https://localhost:8080/",
          "height": 130
        },
        "id": "X4ByAIay4x26",
        "outputId": "8e9f0022-67fc-4b4b-eb6f-0bd26455c0dc"
      },
      "outputs": [
        {
          "output_type": "error",
          "ename": "SyntaxError",
          "evalue": "ignored",
          "traceback": [
            "\u001b[0;36m  File \u001b[0;32m\"<ipython-input-1-f9270afb0d66>\"\u001b[0;36m, line \u001b[0;32m2\u001b[0m\n\u001b[0;31m    print(\"a as int:\",a\")\u001b[0m\n\u001b[0m                         ^\u001b[0m\n\u001b[0;31mSyntaxError\u001b[0m\u001b[0;31m:\u001b[0m EOL while scanning string literal\n"
          ]
        }
      ],
      "source": [
        "\n",
        "a=25\n",
        "print(\"a as int:\"a)\n",
        "b=548468\n",
        "print(\"b as long\",b)\n",
        "c=14.25\n",
        "print(\"c as float\",c)\n",
        "d=3.14j\n",
        "print(\"d as complax\",d)\n",
        "print(3.14j)\n",
        "str1=\"welcome to python\"\n",
        "print(str1)\n",
        "print(\"welcome to python\")\n",
        "list=[5,4,5,]\n",
        "print(list)\n",
        "tuple=(21,\"python\")\n",
        "print(tuple)\n",
        "dict={\"EGR\":67,\"CDE\"68}\n",
        "print(dict)\n"
      ]
    },
    {
      "cell_type": "code",
      "source": [
        "\n",
        "\n",
        "\n",
        "\n"
      ],
      "metadata": {
        "id": "fGkC0mqKtalJ"
      },
      "execution_count": null,
      "outputs": []
    },
    {
      "cell_type": "code",
      "source": [
        "import pandas as pd\n",
        "df = pd.read_excel(r'/content/drive/MyDrive/309 yash .dhunde.xlsx')\n",
        "print(df)\n",
        "df1 =pd.read_excel(r'/content/drive/MyDrive/Untitled spreadsheet.xlsx')\n",
        "print(df1)"
      ],
      "metadata": {
        "colab": {
          "base_uri": "https://localhost:8080/"
        },
        "id": "WOv2WgEkXcra",
        "outputId": "6230f702-f217-404f-9c13-a6ea9ac6b4e1"
      },
      "execution_count": null,
      "outputs": [
        {
          "output_type": "stream",
          "name": "stdout",
          "text": [
            "   SR-no  EMP NAME  EMP ID\n",
            "0      1      YASH     101\n",
            "1      2    PRANAY     102\n",
            "2      3   SUSHANT     103\n",
            "3      4    GANESH     104\n",
            "4      5    AKSHIT     105\n",
            "5      6  KAUSTUBH     106\n",
            "6      7   ATHARVA     107\n",
            "7      8   SHARDUL     108\n",
            "8      9   AVISKAR     109\n",
            "9     10        OM     110\n",
            "   EMP     EmpID  Salary\n",
            "0    1      YASH   50000\n",
            "1    2    PRANAY   60000\n",
            "2    3   SUSHANT   80000\n",
            "3    4    GANESH   90000\n",
            "4    5    AKSHIT   50000\n",
            "5    6  KAUSTUBH   80000\n",
            "6    7   ATHARVA   90000\n",
            "7    8   SHARDUL   90000\n",
            "8    9   AVISKAR   80000\n",
            "9   10        OM   70000\n"
          ]
        }
      ]
    },
    {
      "cell_type": "code",
      "source": [
        "import pandas as pd\n",
        "df1.sort_values(by=['Salary'])"
      ],
      "metadata": {
        "colab": {
          "base_uri": "https://localhost:8080/",
          "height": 363
        },
        "id": "7XZO71_VYkyL",
        "outputId": "7ab539b0-a592-4d8a-fa35-98744c9b904e"
      },
      "execution_count": null,
      "outputs": [
        {
          "output_type": "execute_result",
          "data": {
            "text/plain": [
              "   EMP     EmpID  Salary\n",
              "0    1      YASH   50000\n",
              "4    5    AKSHIT   50000\n",
              "1    2    PRANAY   60000\n",
              "9   10        OM   70000\n",
              "2    3   SUSHANT   80000\n",
              "5    6  KAUSTUBH   80000\n",
              "8    9   AVISKAR   80000\n",
              "3    4    GANESH   90000\n",
              "6    7   ATHARVA   90000\n",
              "7    8   SHARDUL   90000"
            ],
            "text/html": [
              "\n",
              "  <div id=\"df-f391214d-033b-4cb4-b075-e6fb051f5d15\">\n",
              "    <div class=\"colab-df-container\">\n",
              "      <div>\n",
              "<style scoped>\n",
              "    .dataframe tbody tr th:only-of-type {\n",
              "        vertical-align: middle;\n",
              "    }\n",
              "\n",
              "    .dataframe tbody tr th {\n",
              "        vertical-align: top;\n",
              "    }\n",
              "\n",
              "    .dataframe thead th {\n",
              "        text-align: right;\n",
              "    }\n",
              "</style>\n",
              "<table border=\"1\" class=\"dataframe\">\n",
              "  <thead>\n",
              "    <tr style=\"text-align: right;\">\n",
              "      <th></th>\n",
              "      <th>EMP</th>\n",
              "      <th>EmpID</th>\n",
              "      <th>Salary</th>\n",
              "    </tr>\n",
              "  </thead>\n",
              "  <tbody>\n",
              "    <tr>\n",
              "      <th>0</th>\n",
              "      <td>1</td>\n",
              "      <td>YASH</td>\n",
              "      <td>50000</td>\n",
              "    </tr>\n",
              "    <tr>\n",
              "      <th>4</th>\n",
              "      <td>5</td>\n",
              "      <td>AKSHIT</td>\n",
              "      <td>50000</td>\n",
              "    </tr>\n",
              "    <tr>\n",
              "      <th>1</th>\n",
              "      <td>2</td>\n",
              "      <td>PRANAY</td>\n",
              "      <td>60000</td>\n",
              "    </tr>\n",
              "    <tr>\n",
              "      <th>9</th>\n",
              "      <td>10</td>\n",
              "      <td>OM</td>\n",
              "      <td>70000</td>\n",
              "    </tr>\n",
              "    <tr>\n",
              "      <th>2</th>\n",
              "      <td>3</td>\n",
              "      <td>SUSHANT</td>\n",
              "      <td>80000</td>\n",
              "    </tr>\n",
              "    <tr>\n",
              "      <th>5</th>\n",
              "      <td>6</td>\n",
              "      <td>KAUSTUBH</td>\n",
              "      <td>80000</td>\n",
              "    </tr>\n",
              "    <tr>\n",
              "      <th>8</th>\n",
              "      <td>9</td>\n",
              "      <td>AVISKAR</td>\n",
              "      <td>80000</td>\n",
              "    </tr>\n",
              "    <tr>\n",
              "      <th>3</th>\n",
              "      <td>4</td>\n",
              "      <td>GANESH</td>\n",
              "      <td>90000</td>\n",
              "    </tr>\n",
              "    <tr>\n",
              "      <th>6</th>\n",
              "      <td>7</td>\n",
              "      <td>ATHARVA</td>\n",
              "      <td>90000</td>\n",
              "    </tr>\n",
              "    <tr>\n",
              "      <th>7</th>\n",
              "      <td>8</td>\n",
              "      <td>SHARDUL</td>\n",
              "      <td>90000</td>\n",
              "    </tr>\n",
              "  </tbody>\n",
              "</table>\n",
              "</div>\n",
              "      <button class=\"colab-df-convert\" onclick=\"convertToInteractive('df-f391214d-033b-4cb4-b075-e6fb051f5d15')\"\n",
              "              title=\"Convert this dataframe to an interactive table.\"\n",
              "              style=\"display:none;\">\n",
              "        \n",
              "  <svg xmlns=\"http://www.w3.org/2000/svg\" height=\"24px\"viewBox=\"0 0 24 24\"\n",
              "       width=\"24px\">\n",
              "    <path d=\"M0 0h24v24H0V0z\" fill=\"none\"/>\n",
              "    <path d=\"M18.56 5.44l.94 2.06.94-2.06 2.06-.94-2.06-.94-.94-2.06-.94 2.06-2.06.94zm-11 1L8.5 8.5l.94-2.06 2.06-.94-2.06-.94L8.5 2.5l-.94 2.06-2.06.94zm10 10l.94 2.06.94-2.06 2.06-.94-2.06-.94-.94-2.06-.94 2.06-2.06.94z\"/><path d=\"M17.41 7.96l-1.37-1.37c-.4-.4-.92-.59-1.43-.59-.52 0-1.04.2-1.43.59L10.3 9.45l-7.72 7.72c-.78.78-.78 2.05 0 2.83L4 21.41c.39.39.9.59 1.41.59.51 0 1.02-.2 1.41-.59l7.78-7.78 2.81-2.81c.8-.78.8-2.07 0-2.86zM5.41 20L4 18.59l7.72-7.72 1.47 1.35L5.41 20z\"/>\n",
              "  </svg>\n",
              "      </button>\n",
              "      \n",
              "  <style>\n",
              "    .colab-df-container {\n",
              "      display:flex;\n",
              "      flex-wrap:wrap;\n",
              "      gap: 12px;\n",
              "    }\n",
              "\n",
              "    .colab-df-convert {\n",
              "      background-color: #E8F0FE;\n",
              "      border: none;\n",
              "      border-radius: 50%;\n",
              "      cursor: pointer;\n",
              "      display: none;\n",
              "      fill: #1967D2;\n",
              "      height: 32px;\n",
              "      padding: 0 0 0 0;\n",
              "      width: 32px;\n",
              "    }\n",
              "\n",
              "    .colab-df-convert:hover {\n",
              "      background-color: #E2EBFA;\n",
              "      box-shadow: 0px 1px 2px rgba(60, 64, 67, 0.3), 0px 1px 3px 1px rgba(60, 64, 67, 0.15);\n",
              "      fill: #174EA6;\n",
              "    }\n",
              "\n",
              "    [theme=dark] .colab-df-convert {\n",
              "      background-color: #3B4455;\n",
              "      fill: #D2E3FC;\n",
              "    }\n",
              "\n",
              "    [theme=dark] .colab-df-convert:hover {\n",
              "      background-color: #434B5C;\n",
              "      box-shadow: 0px 1px 3px 1px rgba(0, 0, 0, 0.15);\n",
              "      filter: drop-shadow(0px 1px 2px rgba(0, 0, 0, 0.3));\n",
              "      fill: #FFFFFF;\n",
              "    }\n",
              "  </style>\n",
              "\n",
              "      <script>\n",
              "        const buttonEl =\n",
              "          document.querySelector('#df-f391214d-033b-4cb4-b075-e6fb051f5d15 button.colab-df-convert');\n",
              "        buttonEl.style.display =\n",
              "          google.colab.kernel.accessAllowed ? 'block' : 'none';\n",
              "\n",
              "        async function convertToInteractive(key) {\n",
              "          const element = document.querySelector('#df-f391214d-033b-4cb4-b075-e6fb051f5d15');\n",
              "          const dataTable =\n",
              "            await google.colab.kernel.invokeFunction('convertToInteractive',\n",
              "                                                     [key], {});\n",
              "          if (!dataTable) return;\n",
              "\n",
              "          const docLinkHtml = 'Like what you see? Visit the ' +\n",
              "            '<a target=\"_blank\" href=https://colab.research.google.com/notebooks/data_table.ipynb>data table notebook</a>'\n",
              "            + ' to learn more about interactive tables.';\n",
              "          element.innerHTML = '';\n",
              "          dataTable['output_type'] = 'display_data';\n",
              "          await google.colab.output.renderOutput(dataTable, element);\n",
              "          const docLink = document.createElement('div');\n",
              "          docLink.innerHTML = docLinkHtml;\n",
              "          element.appendChild(docLink);\n",
              "        }\n",
              "      </script>\n",
              "    </div>\n",
              "  </div>\n",
              "  "
            ]
          },
          "metadata": {},
          "execution_count": 3
        }
      ]
    },
    {
      "cell_type": "code",
      "source": [
        "import pandas as pd\n",
        "df = pd.read_excel(r'/content/drive/MyDrive/309 yash .dhunde.xlsx')\n",
        "print(df)\n",
        "df['EMP ID'].mean()\n",
        "df['EMP ID'].mode()\n",
        "#df1 =pd.read_excel(r'/content/drive/MyDrive/Untitled spreadsheet.xlsx')\n",
        "#print(df1)\n"
      ],
      "metadata": {
        "colab": {
          "base_uri": "https://localhost:8080/"
        },
        "id": "mvDK7jWFLJdY",
        "outputId": "a3449d0c-99dd-420d-ca72-80aae0498b01"
      },
      "execution_count": null,
      "outputs": [
        {
          "output_type": "stream",
          "name": "stdout",
          "text": [
            "   SR-no  EMP NAME  EMP ID\n",
            "0      1      YASH     101\n",
            "1      2    PRANAY     102\n",
            "2      3   SUSHANT     103\n",
            "3      4    GANESH     104\n",
            "4      5    AKSHIT     105\n",
            "5      6  KAUSTUBH     106\n",
            "6      7   ATHARVA     107\n",
            "7      8   SHARDUL     108\n",
            "8      9   AVISKAR     109\n",
            "9     10        OM     110\n"
          ]
        },
        {
          "output_type": "execute_result",
          "data": {
            "text/plain": [
              "0    101\n",
              "1    102\n",
              "2    103\n",
              "3    104\n",
              "4    105\n",
              "5    106\n",
              "6    107\n",
              "7    108\n",
              "8    109\n",
              "9    110\n",
              "Name: EMP ID, dtype: int64"
            ]
          },
          "metadata": {},
          "execution_count": 4
        }
      ]
    },
    {
      "cell_type": "code",
      "source": [
        "def get_cube(b):\n",
        " return b*b*b\n",
        " print(get_cube(3))"
      ],
      "metadata": {
        "id": "0Dl2hsnLEl03"
      },
      "execution_count": null,
      "outputs": []
    },
    {
      "cell_type": "code",
      "source": [
        "# Dictionay operations\n",
        "dict1 ={\"ABC\":2742023,\"EDF\":89}\n",
        "print(dict1)           #print dictionary\n",
        "print(dict1.keys())     #reteriving values from dictionary\n",
        "print(dict1.values())  # reterving values frm dictionay\n",
        "dict1.update({\"SCE\":8-9-2022})\n",
        "print(dict1)\n",
        "a=dict1.__len__()\n",
        "dict1.pop(\"SCE\")\n",
        "print(dict1)"
      ],
      "metadata": {
        "colab": {
          "base_uri": "https://localhost:8080/"
        },
        "id": "V9_PE6MqKgK7",
        "outputId": "293ebe56-b34c-445d-da63-bffa7b68a690"
      },
      "execution_count": null,
      "outputs": [
        {
          "output_type": "stream",
          "name": "stdout",
          "text": [
            "{'ABC': 2742023, 'EDF': 89}\n",
            "dict_keys(['ABC', 'EDF'])\n",
            "dict_values([2742023, 89])\n",
            "{'ABC': 2742023, 'EDF': 89, 'SCE': -2023}\n",
            "{'ABC': 2742023, 'EDF': 89}\n"
          ]
        }
      ]
    },
    {
      "cell_type": "code",
      "source": [
        "      def merge(dict1, dict2):\n",
        "        return(dict2.update(dict1))\n",
        "      dict1 = {'q': 10, \"AAB\": 8}\n",
        "      dict2 = {'d': 6, 'c': 4}\n",
        "      print(merge(dict1, dict2))\n",
        "\n",
        "\n",
        "\n",
        "      print(dict2)"
      ],
      "metadata": {
        "colab": {
          "base_uri": "https://localhost:8080/"
        },
        "id": "E6mYabJma34u",
        "outputId": "b55bc9f9-07cb-43ef-ab45-9c82af5a61d3"
      },
      "execution_count": null,
      "outputs": [
        {
          "output_type": "stream",
          "name": "stdout",
          "text": [
            "None\n",
            "{'d': 6, 'c': 4, 'q': 10, 'AAB': 8}\n"
          ]
        }
      ]
    },
    {
      "cell_type": "code",
      "source": [],
      "metadata": {
        "id": "NyQFvLXpfxRN"
      },
      "execution_count": null,
      "outputs": []
    },
    {
      "cell_type": "code",
      "source": [
        "import pandas as honda\n",
        "df1 = honda.DataFrame({'Employee':['Sushant', 'pranay','yash','apoorv'],\n",
        "                     'group':['Accounting','Engineering','Engineering','HR']})\n",
        "df2 = honda.DataFrame({'employee' : ['Sushant', 'pranay','yash','apoorv'],\n",
        "                    'hire_data': [2004, 2008, 2012, 2014]})\n",
        "df3 = honda.merge(df1,df2)\n",
        "print(df3)"
      ],
      "metadata": {
        "colab": {
          "base_uri": "https://localhost:8080/",
          "height": 380
        },
        "id": "33etPGLPfxJP",
        "outputId": "6fddc523-d7cd-4253-c365-8ad1df946fd6"
      },
      "execution_count": null,
      "outputs": [
        {
          "output_type": "error",
          "ename": "MergeError",
          "evalue": "ignored",
          "traceback": [
            "\u001b[0;31m---------------------------------------------------------------------------\u001b[0m",
            "\u001b[0;31mMergeError\u001b[0m                                Traceback (most recent call last)",
            "\u001b[0;32m<ipython-input-1-86524916c4b3>\u001b[0m in \u001b[0;36m<cell line: 6>\u001b[0;34m()\u001b[0m\n\u001b[1;32m      4\u001b[0m df2 = honda.DataFrame({'employee' : ['Sushant', 'pranay','yash','apoorv'],\n\u001b[1;32m      5\u001b[0m                     'hire_data': [2004, 2008, 2012, 2014]})\n\u001b[0;32m----> 6\u001b[0;31m \u001b[0mdf3\u001b[0m \u001b[0;34m=\u001b[0m \u001b[0mhonda\u001b[0m\u001b[0;34m.\u001b[0m\u001b[0mmerge\u001b[0m\u001b[0;34m(\u001b[0m\u001b[0mdf1\u001b[0m\u001b[0;34m,\u001b[0m\u001b[0mdf2\u001b[0m\u001b[0;34m)\u001b[0m\u001b[0;34m\u001b[0m\u001b[0;34m\u001b[0m\u001b[0m\n\u001b[0m\u001b[1;32m      7\u001b[0m \u001b[0mprint\u001b[0m\u001b[0;34m(\u001b[0m\u001b[0mdf3\u001b[0m\u001b[0;34m)\u001b[0m\u001b[0;34m\u001b[0m\u001b[0;34m\u001b[0m\u001b[0m\n",
            "\u001b[0;32m/usr/local/lib/python3.10/dist-packages/pandas/core/reshape/merge.py\u001b[0m in \u001b[0;36mmerge\u001b[0;34m(left, right, how, on, left_on, right_on, left_index, right_index, sort, suffixes, copy, indicator, validate)\u001b[0m\n\u001b[1;32m    108\u001b[0m     \u001b[0mvalidate\u001b[0m\u001b[0;34m:\u001b[0m \u001b[0mstr\u001b[0m \u001b[0;34m|\u001b[0m \u001b[0;32mNone\u001b[0m \u001b[0;34m=\u001b[0m \u001b[0;32mNone\u001b[0m\u001b[0;34m,\u001b[0m\u001b[0;34m\u001b[0m\u001b[0;34m\u001b[0m\u001b[0m\n\u001b[1;32m    109\u001b[0m ) -> DataFrame:\n\u001b[0;32m--> 110\u001b[0;31m     op = _MergeOperation(\n\u001b[0m\u001b[1;32m    111\u001b[0m         \u001b[0mleft\u001b[0m\u001b[0;34m,\u001b[0m\u001b[0;34m\u001b[0m\u001b[0;34m\u001b[0m\u001b[0m\n\u001b[1;32m    112\u001b[0m         \u001b[0mright\u001b[0m\u001b[0;34m,\u001b[0m\u001b[0;34m\u001b[0m\u001b[0;34m\u001b[0m\u001b[0m\n",
            "\u001b[0;32m/usr/local/lib/python3.10/dist-packages/pandas/core/reshape/merge.py\u001b[0m in \u001b[0;36m__init__\u001b[0;34m(self, left, right, how, on, left_on, right_on, axis, left_index, right_index, sort, suffixes, indicator, validate)\u001b[0m\n\u001b[1;32m    683\u001b[0m             \u001b[0mwarnings\u001b[0m\u001b[0;34m.\u001b[0m\u001b[0mwarn\u001b[0m\u001b[0;34m(\u001b[0m\u001b[0mmsg\u001b[0m\u001b[0;34m,\u001b[0m \u001b[0mFutureWarning\u001b[0m\u001b[0;34m,\u001b[0m \u001b[0mstacklevel\u001b[0m\u001b[0;34m=\u001b[0m\u001b[0mfind_stack_level\u001b[0m\u001b[0;34m(\u001b[0m\u001b[0;34m)\u001b[0m\u001b[0;34m)\u001b[0m\u001b[0;34m\u001b[0m\u001b[0;34m\u001b[0m\u001b[0m\n\u001b[1;32m    684\u001b[0m \u001b[0;34m\u001b[0m\u001b[0m\n\u001b[0;32m--> 685\u001b[0;31m         \u001b[0mself\u001b[0m\u001b[0;34m.\u001b[0m\u001b[0mleft_on\u001b[0m\u001b[0;34m,\u001b[0m \u001b[0mself\u001b[0m\u001b[0;34m.\u001b[0m\u001b[0mright_on\u001b[0m \u001b[0;34m=\u001b[0m \u001b[0mself\u001b[0m\u001b[0;34m.\u001b[0m\u001b[0m_validate_left_right_on\u001b[0m\u001b[0;34m(\u001b[0m\u001b[0mleft_on\u001b[0m\u001b[0;34m,\u001b[0m \u001b[0mright_on\u001b[0m\u001b[0;34m)\u001b[0m\u001b[0;34m\u001b[0m\u001b[0;34m\u001b[0m\u001b[0m\n\u001b[0m\u001b[1;32m    686\u001b[0m \u001b[0;34m\u001b[0m\u001b[0m\n\u001b[1;32m    687\u001b[0m         \u001b[0mcross_col\u001b[0m \u001b[0;34m=\u001b[0m \u001b[0;32mNone\u001b[0m\u001b[0;34m\u001b[0m\u001b[0;34m\u001b[0m\u001b[0m\n",
            "\u001b[0;32m/usr/local/lib/python3.10/dist-packages/pandas/core/reshape/merge.py\u001b[0m in \u001b[0;36m_validate_left_right_on\u001b[0;34m(self, left_on, right_on)\u001b[0m\n\u001b[1;32m   1432\u001b[0m                 \u001b[0mcommon_cols\u001b[0m \u001b[0;34m=\u001b[0m \u001b[0mleft_cols\u001b[0m\u001b[0;34m.\u001b[0m\u001b[0mintersection\u001b[0m\u001b[0;34m(\u001b[0m\u001b[0mright_cols\u001b[0m\u001b[0;34m)\u001b[0m\u001b[0;34m\u001b[0m\u001b[0;34m\u001b[0m\u001b[0m\n\u001b[1;32m   1433\u001b[0m                 \u001b[0;32mif\u001b[0m \u001b[0mlen\u001b[0m\u001b[0;34m(\u001b[0m\u001b[0mcommon_cols\u001b[0m\u001b[0;34m)\u001b[0m \u001b[0;34m==\u001b[0m \u001b[0;36m0\u001b[0m\u001b[0;34m:\u001b[0m\u001b[0;34m\u001b[0m\u001b[0;34m\u001b[0m\u001b[0m\n\u001b[0;32m-> 1434\u001b[0;31m                     raise MergeError(\n\u001b[0m\u001b[1;32m   1435\u001b[0m                         \u001b[0;34m\"No common columns to perform merge on. \"\u001b[0m\u001b[0;34m\u001b[0m\u001b[0;34m\u001b[0m\u001b[0m\n\u001b[1;32m   1436\u001b[0m                         \u001b[0;34mf\"Merge options: left_on={left_on}, \"\u001b[0m\u001b[0;34m\u001b[0m\u001b[0;34m\u001b[0m\u001b[0m\n",
            "\u001b[0;31mMergeError\u001b[0m: No common columns to perform merge on. Merge options: left_on=None, right_on=None, left_index=False, right_index=False"
          ]
        }
      ]
    },
    {
      "cell_type": "code",
      "source": [
        "#calculate today date\n",
        "form datetime import date\n",
        "today = date.today() # fetch todays date\n",
        "print(today)"
      ],
      "metadata": {
        "colab": {
          "base_uri": "https://localhost:8080/",
          "height": 130
        },
        "id": "E3HezVoGSosl",
        "outputId": "132987a9-f6b5-4f0f-ae6a-50493a9695ab"
      },
      "execution_count": null,
      "outputs": [
        {
          "output_type": "error",
          "ename": "SyntaxError",
          "evalue": "ignored",
          "traceback": [
            "\u001b[0;36m  File \u001b[0;32m\"<ipython-input-19-a984ec9f6708>\"\u001b[0;36m, line \u001b[0;32m2\u001b[0m\n\u001b[0;31m    form datetime import date\u001b[0m\n\u001b[0m         ^\u001b[0m\n\u001b[0;31mSyntaxError\u001b[0m\u001b[0;31m:\u001b[0m invalid syntax\n"
          ]
        }
      ]
    },
    {
      "cell_type": "code",
      "source": [
        "def merge_list_and_tuple(lst, tpl):\n",
        "    merged = list(lst) + list(tpl)\n",
        "    return merged\n",
        "\n",
        "my_list = [1, 2, 3]\n",
        "my_tuple = (4, 5, 6)\n",
        "\n",
        "merged_list_and_tuple = merge_list_and_tuple(my_list, my_tuple)\n",
        "print(merged_list_and_tuple)"
      ],
      "metadata": {
        "colab": {
          "base_uri": "https://localhost:8080/"
        },
        "id": "eB0kqQj_o7Az",
        "outputId": "6fe472ec-d0df-4ae6-da33-867e292837c6"
      },
      "execution_count": null,
      "outputs": [
        {
          "output_type": "stream",
          "name": "stdout",
          "text": [
            "[1, 2, 3, 4, 5, 6]\n"
          ]
        }
      ]
    },
    {
      "cell_type": "code",
      "source": [
        "\n",
        "data3 = list(csv.reader(file3, delimiter=','))\n",
        "for i in range(6):\n",
        "    listinfo.append(data1[i] + data2[i] + data3[i])\n",
        "for i in listinfo:\n",
        "    print(i)import csv\n",
        "file2 = open(\"/content/PLACEMENT.csv\", 'r')\n",
        "file1 = open(\"/content/RESULT (1).csv\", 'r')\n",
        "file3 = open(\"/content/STUDENT (1).csv\", 'r')\n",
        "listinfo = []\n",
        "for i in file1:\n",
        "    print(i)\n",
        "\n",
        "for i in file2:\n",
        "    print(i)\n",
        "\n",
        "for i in file3:\n",
        "    print(i)\n",
        "\n",
        "file2.close()\n",
        "file1.close()\n",
        "file3.close()\n",
        "\n",
        "file2 = open(\"/content/PLACEMENT.csv\", 'r')\n",
        "file1 = open(\"/content/RESULT (1).csv\", 'r')\n",
        "file3 = open(\"/content/STUDENT (1).csv\", 'r')\n",
        "data1 = list(csv.reader(file1, delimiter=','))\n",
        "data2 = list(csv.reader(file2, delimiter=','))\n",
        "\n",
        "b = len(listinfo)\n",
        "listm1 = []\n",
        "for i in range(1, b, 1):\n",
        "    listm1.append(int(listinfo[i][2]))\n",
        "listm1.sort()\n",
        "print(\"stored value are\", listm1)\n",
        "print(\"the highest marks in sub 1 = \", max(listm1))\n",
        "print(\"the lowest marks in sub 1 = \", min(listm1))\n",
        "m = sum(listm1) / len(listm1)\n",
        "print(\"the average marks in sub1 = \", m)\n",
        "\n",
        "file2.close()\n",
        "file1.close()\n",
        "listm2=[]\n",
        "\n",
        "for i in range(1, b, 1):\n",
        "    listm2.append(int(listinfo[i][1]))\n",
        "listm2.sort()\n",
        "print(\"stored value are\", listm2)\n",
        "print(\"the highest marks in sub 2 = \", max(listm2))\n",
        "print(\"the lowest marks in sub 2 = \", min(listm2))\n",
        "m = sum(listm2) / len(listm2)\n",
        "print(\"the average marks in sub 2 = \", m)\n",
        "\n",
        "file2.close()\n",
        "file1.close()"
      ],
      "metadata": {
        "id": "uQCVX7d3qPVM",
        "colab": {
          "base_uri": "https://localhost:8080/"
        },
        "outputId": "0ae1a8b0-c6b4-4356-cfb1-1ea913c8d683"
      },
      "execution_count": null,
      "outputs": [
        {
          "output_type": "stream",
          "name": "stdout",
          "text": [
            "PRN,EGR,EDS\n",
            "\n",
            "50047,70,60\n",
            "\n",
            "50048,35,70\n",
            "\n",
            "50049,40,72\n",
            "\n",
            "50050,42,68\n",
            "\n",
            "50051,58,75\n",
            "\n",
            "PRN,PACKAGE\n",
            "\n",
            "50047,100000\n",
            "\n",
            "50048,200000\n",
            "\n",
            "50049,300000\n",
            "\n",
            "50050,400000\n",
            "\n",
            "50051,500000\n",
            "\n",
            "PRN,NAME,CLASS\n",
            "\n",
            "50047,ANURAG,D4\n",
            "\n",
            "50048,CHETAN,D3\n",
            "\n",
            "50049,YASH,D4\n",
            "\n",
            "50050,VEDANT,D2\n",
            "\n",
            "50051,AYUSH,D3\n",
            "\n",
            "['PRN', 'EGR', 'EDS', 'PRN', 'PACKAGE', 'PRN', 'NAME', 'CLASS']\n",
            "['50047', '70', '60', '50047', '100000', '50047', 'ANURAG', 'D4']\n",
            "['50048', '35', '70', '50048', '200000', '50048', 'CHETAN', 'D3']\n",
            "['50049', '40', '72', '50049', '300000', '50049', 'YASH', 'D4']\n",
            "['50050', '42', '68', '50050', '400000', '50050', 'VEDANT', 'D2']\n",
            "['50051', '58', '75', '50051', '500000', '50051', 'AYUSH', 'D3']\n",
            "stored value are [60, 68, 70, 72, 75]\n",
            "the highest marks in sub 1 =  75\n",
            "the lowest marks in sub 1 =  60\n",
            "the average marks in sub1 =  69.0\n",
            "stored value are [35, 40, 42, 58, 70]\n",
            "the highest marks in sub 2 =  70\n",
            "the lowest marks in sub 2 =  35\n",
            "the average marks in sub 2 =  49.0\n"
          ]
        }
      ]
    },
    {
      "cell_type": "markdown",
      "source": [],
      "metadata": {
        "id": "9sEOGQv5o60j"
      }
    },
    {
      "cell_type": "code",
      "source": [
        "import decimal\n",
        "from decimal import Decimal\n",
        "x = Decimal('0.8')\n",
        "y = Decimal('0.9')\n",
        "Z = Decimal('0.7')\n",
        "\n",
        "s = x + y + Z\n",
        "print(s)"
      ],
      "metadata": {
        "colab": {
          "base_uri": "https://localhost:8080/"
        },
        "id": "_RXxoQEnmO7J",
        "outputId": "64e6bd1d-31e6-47c1-bd79-1465476ba1f6"
      },
      "execution_count": null,
      "outputs": [
        {
          "output_type": "stream",
          "name": "stdout",
          "text": [
            "2.4\n"
          ]
        }
      ]
    },
    {
      "cell_type": "code",
      "source": [
        "# itertools in python\n",
        "# Python's Itertool is a module that provides\n",
        "# various functions that work\n",
        "# on iterators to produce complex iterators.\n",
        "\n",
        "from itertools import count\n",
        "\n",
        "for number in count (start=5, step =3):\n",
        "\n",
        "   if number > 10:\n",
        "      break\n",
        "   print(number)"
      ],
      "metadata": {
        "colab": {
          "base_uri": "https://localhost:8080/"
        },
        "id": "5XHSG54bompc",
        "outputId": "676d0d2d-c023-430c-861e-5179989514f9"
      },
      "execution_count": null,
      "outputs": [
        {
          "output_type": "stream",
          "name": "stdout",
          "text": [
            "5\n",
            "8\n"
          ]
        }
      ]
    },
    {
      "cell_type": "code",
      "source": [
        "# The operator module exports a set of efficient functions\n",
        "# corresponding to the intrinsic operators of Python.\n",
        "# For example, operator.add(x, y) is equivalent to the expression x+y.\n",
        "import operator\n",
        "# Initializing variables\n",
        "a = 4\n",
        "b = 3\n",
        "# using add() to add two numbers\n",
        "print (\"The addition of numbers is :\",\"\");\n",
        "print (operator.add(a, b))\n",
        "# using sub() to subtract two numbers\n",
        "print (\"The difference of numbers is \",end=\"\");\n",
        "print (operator.sub(a, b))\n",
        "# using mul() to multiply two numbers\n",
        "print (\"The product of numbers is \",end=\"\");\n",
        "print (operator.mul(a, b))"
      ],
      "metadata": {
        "colab": {
          "base_uri": "https://localhost:8080/"
        },
        "id": "9caJBHtXq_Pi",
        "outputId": "f5e632b5-b342-4d3f-8ac8-e7dd2fee414d"
      },
      "execution_count": null,
      "outputs": [
        {
          "output_type": "stream",
          "name": "stdout",
          "text": [
            "The addition of numbers is : \n",
            "7\n",
            "The difference of numbers is 1\n",
            "The product of numbers is 12\n"
          ]
        }
      ]
    },
    {
      "cell_type": "code",
      "source": [
        "# fraction This module provides support for rational\n",
        "# number arithmetic.\n",
        "# It allows to create a Fraction instance from integers,\n",
        "\n",
        "# numbers, decimals and strings.\n",
        "from fractions import Fraction\n",
        "\n",
        "print (Fraction (84,21))\n",
        "\n",
        "print (Fraction (81, 7))\n",
        "\n",
        "print (Fraction (23,17))"
      ],
      "metadata": {
        "colab": {
          "base_uri": "https://localhost:8080/"
        },
        "id": "ZesRPTqcrswp",
        "outputId": "19de7774-d77e-427c-dedc-abea72a6e8bc"
      },
      "execution_count": null,
      "outputs": [
        {
          "output_type": "stream",
          "name": "stdout",
          "text": [
            "4\n",
            "81/7\n",
            "23/17\n"
          ]
        }
      ]
    },
    {
      "cell_type": "code",
      "source": [
        "a= 4//3\n",
        "print(a)\n",
        "a<b"
      ],
      "metadata": {
        "colab": {
          "base_uri": "https://localhost:8080/"
        },
        "id": "Ybk7pDpYs2y_",
        "outputId": "7ba11f03-95fe-4f12-f560-5f85907f4a06"
      },
      "execution_count": null,
      "outputs": [
        {
          "output_type": "stream",
          "name": "stdout",
          "text": [
            "1\n"
          ]
        },
        {
          "output_type": "execute_result",
          "data": {
            "text/plain": [
              "True"
            ]
          },
          "metadata": {},
          "execution_count": 10
        }
      ]
    },
    {
      "cell_type": "code",
      "source": [
        "x = range(100,80,-5)\n",
        "for n in x:\n",
        "  print(n)"
      ],
      "metadata": {
        "colab": {
          "base_uri": "https://localhost:8080/"
        },
        "id": "ZiwRrypAtOD0",
        "outputId": "b44a5c24-1de4-457b-af02-4c6cf2024cc8"
      },
      "execution_count": null,
      "outputs": [
        {
          "output_type": "stream",
          "name": "stdout",
          "text": [
            "100\n",
            "95\n",
            "90\n",
            "85\n"
          ]
        }
      ]
    },
    {
      "cell_type": "code",
      "source": [
        "# Python implements decimal numbers as double\n",
        "# precision floating point numbers which\n",
        "# are machine dependent.\n",
        "import decimal\n",
        "float_division=4/3\n",
        "decimal_devision=decimal.Decimal(4)/decimal.Decimal(3)\n",
        "print(\"Result for float division of 4 by 3:\")\n",
        "print(flote_division)\n",
        "print(\"Result for decimal division of 4 by 3:\")\n",
        "print(decimal_devision)"
      ],
      "metadata": {
        "colab": {
          "base_uri": "https://localhost:8080/",
          "height": 252
        },
        "id": "ZenrYRu0tizk",
        "outputId": "400666d1-5a14-470c-d40f-257deb9c6515"
      },
      "execution_count": null,
      "outputs": [
        {
          "output_type": "stream",
          "name": "stdout",
          "text": [
            "Result for float division of 4 by 3:\n"
          ]
        },
        {
          "output_type": "error",
          "ename": "NameError",
          "evalue": "ignored",
          "traceback": [
            "\u001b[0;31m---------------------------------------------------------------------------\u001b[0m",
            "\u001b[0;31mNameError\u001b[0m                                 Traceback (most recent call last)",
            "\u001b[0;32m<ipython-input-17-cf0c3e3607a3>\u001b[0m in \u001b[0;36m<cell line: 8>\u001b[0;34m()\u001b[0m\n\u001b[1;32m      6\u001b[0m \u001b[0mdecimal_devision\u001b[0m\u001b[0;34m=\u001b[0m\u001b[0mdecimal\u001b[0m\u001b[0;34m.\u001b[0m\u001b[0mDecimal\u001b[0m\u001b[0;34m(\u001b[0m\u001b[0;36m4\u001b[0m\u001b[0;34m)\u001b[0m\u001b[0;34m/\u001b[0m\u001b[0mdecimal\u001b[0m\u001b[0;34m.\u001b[0m\u001b[0mDecimal\u001b[0m\u001b[0;34m(\u001b[0m\u001b[0;36m3\u001b[0m\u001b[0;34m)\u001b[0m\u001b[0;34m\u001b[0m\u001b[0;34m\u001b[0m\u001b[0m\n\u001b[1;32m      7\u001b[0m \u001b[0mprint\u001b[0m\u001b[0;34m(\u001b[0m\u001b[0;34m\"Result for float division of 4 by 3:\"\u001b[0m\u001b[0;34m)\u001b[0m\u001b[0;34m\u001b[0m\u001b[0;34m\u001b[0m\u001b[0m\n\u001b[0;32m----> 8\u001b[0;31m \u001b[0mprint\u001b[0m\u001b[0;34m(\u001b[0m\u001b[0mflote_division\u001b[0m\u001b[0;34m)\u001b[0m\u001b[0;34m\u001b[0m\u001b[0;34m\u001b[0m\u001b[0m\n\u001b[0m\u001b[1;32m      9\u001b[0m \u001b[0mprint\u001b[0m\u001b[0;34m(\u001b[0m\u001b[0;34m\"Result for decimal division of 4 by 3:\"\u001b[0m\u001b[0;34m)\u001b[0m\u001b[0;34m\u001b[0m\u001b[0;34m\u001b[0m\u001b[0m\n\u001b[1;32m     10\u001b[0m \u001b[0mprint\u001b[0m\u001b[0;34m(\u001b[0m\u001b[0mdecimal_devision\u001b[0m\u001b[0;34m)\u001b[0m\u001b[0;34m\u001b[0m\u001b[0;34m\u001b[0m\u001b[0m\n",
            "\u001b[0;31mNameError\u001b[0m: name 'flote_division' is not defined"
          ]
        }
      ]
    },
    {
      "cell_type": "code",
      "source": [
        "#Array operations in python\n",
        "\n",
        "import pandas as pd\n",
        "import numpy as np\n",
        "\n",
        "df = pd.read_excel\n",
        "\n",
        "df1 = pd.read_excol, header = None)\n",
        "\n",
        "array df.to_numpy()\n",
        "array1df1.to_numpy()\n",
        "\n",
        "print(array)\n",
        "print(array1)"
      ],
      "metadata": {
        "id": "LxrnmedvEvsG"
      },
      "execution_count": null,
      "outputs": []
    },
    {
      "cell_type": "code",
      "source": [
        "l1=[12,1.2,True,\"yash\"]\n",
        "I1.append(\"dhunde\")\n",
        "print(l1)\n",
        "l1.extand(\"dhunde\")\n",
        "print(l1)\n",
        "l1.discard(12)"
      ],
      "metadata": {
        "colab": {
          "base_uri": "https://localhost:8080/",
          "height": 235
        },
        "id": "3XwXWXFfSTwn",
        "outputId": "0f563852-a04a-4fb1-b15c-c6a52abd877f"
      },
      "execution_count": null,
      "outputs": [
        {
          "output_type": "error",
          "ename": "NameError",
          "evalue": "ignored",
          "traceback": [
            "\u001b[0;31m---------------------------------------------------------------------------\u001b[0m",
            "\u001b[0;31mNameError\u001b[0m                                 Traceback (most recent call last)",
            "\u001b[0;32m<ipython-input-3-faea95f88df6>\u001b[0m in \u001b[0;36m<cell line: 2>\u001b[0;34m()\u001b[0m\n\u001b[1;32m      1\u001b[0m \u001b[0ml1\u001b[0m\u001b[0;34m=\u001b[0m\u001b[0;34m[\u001b[0m\u001b[0;36m12\u001b[0m\u001b[0;34m,\u001b[0m\u001b[0;36m1.2\u001b[0m\u001b[0;34m,\u001b[0m\u001b[0;32mTrue\u001b[0m\u001b[0;34m,\u001b[0m\u001b[0;34m\"yash\"\u001b[0m\u001b[0;34m]\u001b[0m\u001b[0;34m\u001b[0m\u001b[0;34m\u001b[0m\u001b[0m\n\u001b[0;32m----> 2\u001b[0;31m \u001b[0mI1\u001b[0m\u001b[0;34m.\u001b[0m\u001b[0mappend\u001b[0m\u001b[0;34m(\u001b[0m\u001b[0;34m\"dhunde\"\u001b[0m\u001b[0;34m)\u001b[0m\u001b[0;34m\u001b[0m\u001b[0;34m\u001b[0m\u001b[0m\n\u001b[0m\u001b[1;32m      3\u001b[0m \u001b[0mprint\u001b[0m\u001b[0;34m(\u001b[0m\u001b[0ml1\u001b[0m\u001b[0;34m)\u001b[0m\u001b[0;34m\u001b[0m\u001b[0;34m\u001b[0m\u001b[0m\n\u001b[1;32m      4\u001b[0m \u001b[0ml1\u001b[0m\u001b[0;34m.\u001b[0m\u001b[0mextand\u001b[0m\u001b[0;34m(\u001b[0m\u001b[0;34m\"dhunde\"\u001b[0m\u001b[0;34m)\u001b[0m\u001b[0;34m\u001b[0m\u001b[0;34m\u001b[0m\u001b[0m\n\u001b[1;32m      5\u001b[0m \u001b[0mprint\u001b[0m\u001b[0;34m(\u001b[0m\u001b[0ml1\u001b[0m\u001b[0;34m)\u001b[0m\u001b[0;34m\u001b[0m\u001b[0;34m\u001b[0m\u001b[0m\n",
            "\u001b[0;31mNameError\u001b[0m: name 'I1' is not defined"
          ]
        }
      ]
    },
    {
      "cell_type": "code",
      "source": [
        "#2nd\n",
        "area = lambda rad:4*3.14*rad*rad\n",
        "print(area(564564584691))\n",
        "\n",
        "\n",
        "square = lambda x:x*x\n",
        "print(square(848914581))\n",
        "\n",
        "\n",
        "volume_cube =lambda side:side*side*side\n",
        "print(volume_cube(1561141489179))\n",
        "\n"
      ],
      "metadata": {
        "colab": {
          "base_uri": "https://localhost:8080/"
        },
        "id": "Q3m-CJh2UBVG",
        "outputId": "4e58cfed-a545-4785-d2a8-7eb1b31d47f4"
      },
      "execution_count": null,
      "outputs": [
        {
          "output_type": "stream",
          "name": "stdout",
          "text": [
            "4.003288618808756e+24\n",
            "720655965834405561\n",
            "3804755883713915021524797406329882339\n"
          ]
        }
      ]
    },
    {
      "cell_type": "code",
      "source": [
        "import pandas as pd\n",
        "\n",
        "\n",
        "\n",
        "data={'name': ['subudha', 'pranay', 'sushant','yash'],\n",
        "      'age': ['19','18','19','19']}\n",
        "new = pd.DataFrame.from_dict(data)\n",
        "new"
      ],
      "metadata": {
        "colab": {
          "base_uri": "https://localhost:8080/",
          "height": 175
        },
        "id": "kzRtZBYEYYMl",
        "outputId": "bbde69fd-372a-4790-a1f5-f014cff7f49a"
      },
      "execution_count": null,
      "outputs": [
        {
          "output_type": "execute_result",
          "data": {
            "text/plain": [
              "      name age\n",
              "0  subudha  19\n",
              "1   pranay  18\n",
              "2  sushant  19\n",
              "3     yash  19"
            ],
            "text/html": [
              "\n",
              "  <div id=\"df-682b57f1-5b8b-4312-9cf2-fb662d00481d\">\n",
              "    <div class=\"colab-df-container\">\n",
              "      <div>\n",
              "<style scoped>\n",
              "    .dataframe tbody tr th:only-of-type {\n",
              "        vertical-align: middle;\n",
              "    }\n",
              "\n",
              "    .dataframe tbody tr th {\n",
              "        vertical-align: top;\n",
              "    }\n",
              "\n",
              "    .dataframe thead th {\n",
              "        text-align: right;\n",
              "    }\n",
              "</style>\n",
              "<table border=\"1\" class=\"dataframe\">\n",
              "  <thead>\n",
              "    <tr style=\"text-align: right;\">\n",
              "      <th></th>\n",
              "      <th>name</th>\n",
              "      <th>age</th>\n",
              "    </tr>\n",
              "  </thead>\n",
              "  <tbody>\n",
              "    <tr>\n",
              "      <th>0</th>\n",
              "      <td>subudha</td>\n",
              "      <td>19</td>\n",
              "    </tr>\n",
              "    <tr>\n",
              "      <th>1</th>\n",
              "      <td>pranay</td>\n",
              "      <td>18</td>\n",
              "    </tr>\n",
              "    <tr>\n",
              "      <th>2</th>\n",
              "      <td>sushant</td>\n",
              "      <td>19</td>\n",
              "    </tr>\n",
              "    <tr>\n",
              "      <th>3</th>\n",
              "      <td>yash</td>\n",
              "      <td>19</td>\n",
              "    </tr>\n",
              "  </tbody>\n",
              "</table>\n",
              "</div>\n",
              "      <button class=\"colab-df-convert\" onclick=\"convertToInteractive('df-682b57f1-5b8b-4312-9cf2-fb662d00481d')\"\n",
              "              title=\"Convert this dataframe to an interactive table.\"\n",
              "              style=\"display:none;\">\n",
              "        \n",
              "  <svg xmlns=\"http://www.w3.org/2000/svg\" height=\"24px\"viewBox=\"0 0 24 24\"\n",
              "       width=\"24px\">\n",
              "    <path d=\"M0 0h24v24H0V0z\" fill=\"none\"/>\n",
              "    <path d=\"M18.56 5.44l.94 2.06.94-2.06 2.06-.94-2.06-.94-.94-2.06-.94 2.06-2.06.94zm-11 1L8.5 8.5l.94-2.06 2.06-.94-2.06-.94L8.5 2.5l-.94 2.06-2.06.94zm10 10l.94 2.06.94-2.06 2.06-.94-2.06-.94-.94-2.06-.94 2.06-2.06.94z\"/><path d=\"M17.41 7.96l-1.37-1.37c-.4-.4-.92-.59-1.43-.59-.52 0-1.04.2-1.43.59L10.3 9.45l-7.72 7.72c-.78.78-.78 2.05 0 2.83L4 21.41c.39.39.9.59 1.41.59.51 0 1.02-.2 1.41-.59l7.78-7.78 2.81-2.81c.8-.78.8-2.07 0-2.86zM5.41 20L4 18.59l7.72-7.72 1.47 1.35L5.41 20z\"/>\n",
              "  </svg>\n",
              "      </button>\n",
              "      \n",
              "  <style>\n",
              "    .colab-df-container {\n",
              "      display:flex;\n",
              "      flex-wrap:wrap;\n",
              "      gap: 12px;\n",
              "    }\n",
              "\n",
              "    .colab-df-convert {\n",
              "      background-color: #E8F0FE;\n",
              "      border: none;\n",
              "      border-radius: 50%;\n",
              "      cursor: pointer;\n",
              "      display: none;\n",
              "      fill: #1967D2;\n",
              "      height: 32px;\n",
              "      padding: 0 0 0 0;\n",
              "      width: 32px;\n",
              "    }\n",
              "\n",
              "    .colab-df-convert:hover {\n",
              "      background-color: #E2EBFA;\n",
              "      box-shadow: 0px 1px 2px rgba(60, 64, 67, 0.3), 0px 1px 3px 1px rgba(60, 64, 67, 0.15);\n",
              "      fill: #174EA6;\n",
              "    }\n",
              "\n",
              "    [theme=dark] .colab-df-convert {\n",
              "      background-color: #3B4455;\n",
              "      fill: #D2E3FC;\n",
              "    }\n",
              "\n",
              "    [theme=dark] .colab-df-convert:hover {\n",
              "      background-color: #434B5C;\n",
              "      box-shadow: 0px 1px 3px 1px rgba(0, 0, 0, 0.15);\n",
              "      filter: drop-shadow(0px 1px 2px rgba(0, 0, 0, 0.3));\n",
              "      fill: #FFFFFF;\n",
              "    }\n",
              "  </style>\n",
              "\n",
              "      <script>\n",
              "        const buttonEl =\n",
              "          document.querySelector('#df-682b57f1-5b8b-4312-9cf2-fb662d00481d button.colab-df-convert');\n",
              "        buttonEl.style.display =\n",
              "          google.colab.kernel.accessAllowed ? 'block' : 'none';\n",
              "\n",
              "        async function convertToInteractive(key) {\n",
              "          const element = document.querySelector('#df-682b57f1-5b8b-4312-9cf2-fb662d00481d');\n",
              "          const dataTable =\n",
              "            await google.colab.kernel.invokeFunction('convertToInteractive',\n",
              "                                                     [key], {});\n",
              "          if (!dataTable) return;\n",
              "\n",
              "          const docLinkHtml = 'Like what you see? Visit the ' +\n",
              "            '<a target=\"_blank\" href=https://colab.research.google.com/notebooks/data_table.ipynb>data table notebook</a>'\n",
              "            + ' to learn more about interactive tables.';\n",
              "          element.innerHTML = '';\n",
              "          dataTable['output_type'] = 'display_data';\n",
              "          await google.colab.output.renderOutput(dataTable, element);\n",
              "          const docLink = document.createElement('div');\n",
              "          docLink.innerHTML = docLinkHtml;\n",
              "          element.appendChild(docLink);\n",
              "        }\n",
              "      </script>\n",
              "    </div>\n",
              "  </div>\n",
              "  "
            ]
          },
          "metadata": {},
          "execution_count": 21
        }
      ]
    },
    {
      "cell_type": "code",
      "source": [
        "\n"
      ],
      "metadata": {
        "id": "QmR1TLMLdkmf"
      },
      "execution_count": null,
      "outputs": []
    },
    {
      "cell_type": "code",
      "source": [
        "import pandas as pd\n",
        "df1 = pd.read_csv('file student hobbies.csv')\n",
        "data = df1.values.tolist()\n",
        "\n",
        "\n",
        "a = df1['Age']\n",
        "b = df1['Hobbies']\n",
        "\n",
        "\n",
        "df1.Age = df1.Age.astype('int64')\n",
        "d = df1['Hobbies'][df1.Age>18]\n",
        "\n",
        "def student(d):\n",
        "\n",
        "    print('stud:',d)\n",
        "\n",
        "student(d)"
      ],
      "metadata": {
        "colab": {
          "base_uri": "https://localhost:8080/"
        },
        "id": "xf0mYimDqDzR",
        "outputId": "368a9e0f-d277-4c18-812f-0b4ba8035a38"
      },
      "execution_count": null,
      "outputs": [
        {
          "output_type": "stream",
          "name": "stdout",
          "text": [
            "stud: 0       painting\n",
            "1        dancing\n",
            "2       football\n",
            "3        cricket\n",
            "4        singing\n",
            "7         hockey\n",
            "8       painting\n",
            "9        singing\n",
            "10    basketball\n",
            "Name: Hobbies, dtype: object\n"
          ]
        }
      ]
    },
    {
      "cell_type": "code",
      "source": [
        "import pandas as pd\n",
        "df1 = pd.read_csv('/content/Virat.csv')\n",
        "print(df1)\n"
      ],
      "metadata": {
        "colab": {
          "base_uri": "https://localhost:8080/"
        },
        "id": "p0tJxfcvdKIb",
        "outputId": "fe9163a1-375d-421a-9154-15615c0da9d8"
      },
      "execution_count": null,
      "outputs": [
        {
          "output_type": "stream",
          "name": "stdout",
          "text": [
            "    No.   Runs       Against  Position  Innings  \\\n",
            "0     1    107     Sri Lanka         4        2   \n",
            "1     2  102*     Bangladesh         3        2   \n",
            "2     3    118     Australia         3        2   \n",
            "3     4    105   New Zealand         3        1   \n",
            "4     5   100*    Bangladesh         4        1   \n",
            "..  ...    ...           ...       ...      ...   \n",
            "70   71   122*   Afghanistan         2        1   \n",
            "71   72    113    Bangladesh         3        1   \n",
            "72   73    113     Sri Lanka         3        1   \n",
            "73   74  166*      Sri Lanka         3        1   \n",
            "74   75    186     Australia         4        2   \n",
            "\n",
            "                                                Venue   Ground       Date  \\\n",
            "0                               Eden Gardens, Kolkata     Home  24-Dec-09   \n",
            "1                Sher-e-Bangla Cricket Stadium, Dhaka     Away  11-Jan-10   \n",
            "2                    APCA-VDCA Stadium, Visakhapatnam     Home  20-Oct-10   \n",
            "3                             Nehru Stadium, Guwahati     Home  28-Nov-10   \n",
            "4                Sher-e-Bangla Cricket Stadium, Dhaka     Away  19-Feb-11   \n",
            "..                                                ...      ...        ...   \n",
            "70         Dubai International Cricket Stadium, Dubai  Neutral   8-Sep-22   \n",
            "71          Zohur Ahmed Chowdhury Stadium, Chittagong     Away  10-Dec-22   \n",
            "72                              ACA Stadium, Guwahati     Home  10-Jan-23   \n",
            "73  Greenfield International Stadium, Thiruvananth...     Home  15-Jan-23   \n",
            "74                   Narendra Modi Stadium, Ahmedabad     Home   9-Mar-23   \n",
            "\n",
            "   Result  \n",
            "0     Won  \n",
            "1     Won  \n",
            "2     Won  \n",
            "3     Won  \n",
            "4     Won  \n",
            "..    ...  \n",
            "70    Won  \n",
            "71    Won  \n",
            "72    Won  \n",
            "73    Won  \n",
            "74  Drawn  \n",
            "\n",
            "[75 rows x 9 columns]\n"
          ]
        }
      ]
    },
    {
      "cell_type": "code",
      "source": [
        "import pandas as pd\n",
        "import matplotlib.pyplot as plt\n",
        "df = pd.read_csv(r'/content/Virat.csv')\n",
        "plt.plot(df['Innings'])\n",
        "plt.show()"
      ],
      "metadata": {
        "id": "8dGqLaLmzGVi",
        "colab": {
          "base_uri": "https://localhost:8080/",
          "height": 430
        },
        "outputId": "cda4a9b2-5807-4af1-ec04-ec85fc0676d0"
      },
      "execution_count": null,
      "outputs": [
        {
          "output_type": "display_data",
          "data": {
            "text/plain": [
              "<Figure size 640x480 with 1 Axes>"
            ],
            "image/png": "[encoded data removed]"
          },
          "metadata": {}
        }
      ]
    },
    {
      "cell_type": "code",
      "source": [
        "import pandas as pd\n",
        "import matplotlib.pyplot as plt\n",
        "df = pd.read_csv(r'/virat kholi.csv')\n",
        "plt.plot(df[\"Innings\"],df[\"Position\"])\n",
        "plt.show()"
      ],
      "metadata": {
        "colab": {
          "base_uri": "https://localhost:8080/",
          "height": 430
        },
        "id": "h3Ng3ZyeiLKP",
        "outputId": "5414d8cb-4cba-4e9c-accf-d1ec0125a42c"
      },
      "execution_count": null,
      "outputs": [
        {
          "output_type": "display_data",
          "data": {
            "text/plain": [
              "<Figure size 640x480 with 1 Axes>"
            ],
            "image/png": "[encoded data removed]"
          },
          "metadata": {}
        }
      ]
    },
    {
      "cell_type": "code",
      "source": [
        "import pandas as pd\n",
        "import matplotlib.pyplot as plt\n",
        "\n",
        "# creat a Dataframe\n",
        "data ={'year':[2010, 2011, 2012, 2013, 2014],\n",
        "       'sales':[100, 150, 120, 200, 180]}\n",
        "df =pd.DataFrame(data)\n",
        "\n",
        "# plot the bar chart\n",
        "df.plot(x='year', y='sales',kind='bar')\n",
        "plt.show()\n"
      ],
      "metadata": {
        "id": "Ic25kR_smepo",
        "colab": {
          "base_uri": "https://localhost:8080/",
          "height": 471
        },
        "outputId": "5e9d1d36-72e6-46b2-952c-292abf36b612"
      },
      "execution_count": null,
      "outputs": [
        {
          "output_type": "display_data",
          "data": {
            "text/plain": [
              "<Figure size 640x480 with 1 Axes>"
            ],
            "image/png": "[encoded data removed]"
          },
          "metadata": {}
        }
      ]
    },
    {
      "cell_type": "code",
      "source": [
        "import pandas as pd\n",
        "import matplotlib.pyplot as plt\n",
        "df = pd.read_csv(r'/virat kholi.csv')\n",
        "plt.plot(df[\"Innings\"],df[\"Position\"],df[])\n",
        "plt.show()"
      ],
      "metadata": {
        "id": "lvnxdeMNkdCV",
        "colab": {
          "base_uri": "https://localhost:8080/",
          "height": 130
        },
        "outputId": "b86106f4-f0e7-46bc-dac9-5a9e704cd2db"
      },
      "execution_count": null,
      "outputs": [
        {
          "output_type": "error",
          "ename": "SyntaxError",
          "evalue": "ignored",
          "traceback": [
            "\u001b[0;36m  File \u001b[0;32m\"<ipython-input-4-4e1c2854e859>\"\u001b[0;36m, line \u001b[0;32m4\u001b[0m\n\u001b[0;31m    plt.plot(df[\"Innings\"],df[\"Position\"],df[])\u001b[0m\n\u001b[0m                                          ^\u001b[0m\n\u001b[0;31mSyntaxError\u001b[0m\u001b[0;31m:\u001b[0m invalid syntax. Perhaps you forgot a comma?\n"
          ]
        }
      ]
    },
    {
      "cell_type": "code",
      "source": [
        "import pandas as pd\n",
        "a=pd.read_csv('/virat kholi.csv')\n",
        "print(a)"
      ],
      "metadata": {
        "colab": {
          "base_uri": "https://localhost:8080/"
        },
        "id": "YmackuDD0ggS",
        "outputId": "bbd219e9-cbad-4879-adb9-bca0733e4bae"
      },
      "execution_count": null,
      "outputs": [
        {
          "output_type": "stream",
          "name": "stdout",
          "text": [
            "    No.   Runs       Against  Position  Innings  \\\n",
            "0   No.    107     Sri Lanka         4        2   \n",
            "1   No.  102*     Bangladesh         3        2   \n",
            "2   No.    118     Australia         3        2   \n",
            "3   No.    105   New Zealand         3        1   \n",
            "4   No.   100*    Bangladesh         4        1   \n",
            "..  ...    ...           ...       ...      ...   \n",
            "70   71   122*   Afghanistan         2        1   \n",
            "71   72    113    Bangladesh         3        1   \n",
            "72   73    113     Sri Lanka         3        1   \n",
            "73   74  166*      Sri Lanka         3        1   \n",
            "74   75    186     Australia         4        2   \n",
            "\n",
            "                                                Venue   Ground       Date  \\\n",
            "0                               Eden Gardens, Kolkata     Home  24-Dec-09   \n",
            "1                Sher-e-Bangla Cricket Stadium, Dhaka     Away  11-Jan-10   \n",
            "2                    APCA-VDCA Stadium, Visakhapatnam     Home  20-Oct-10   \n",
            "3                             Nehru Stadium, Guwahati     Home  28-Nov-10   \n",
            "4                Sher-e-Bangla Cricket Stadium, Dhaka     Away  19-Feb-11   \n",
            "..                                                ...      ...        ...   \n",
            "70         Dubai International Cricket Stadium, Dubai  Neutral   8-Sep-22   \n",
            "71          Zohur Ahmed Chowdhury Stadium, Chittagong     Away  10-Dec-22   \n",
            "72                              ACA Stadium, Guwahati     Home  10-Jan-23   \n",
            "73  Greenfield International Stadium, Thiruvananth...     Home  15-Jan-23   \n",
            "74                   Narendra Modi Stadium, Ahmedabad     Home   9-Mar-23   \n",
            "\n",
            "   Result  \n",
            "0     Won  \n",
            "1     Won  \n",
            "2     Won  \n",
            "3     Won  \n",
            "4     Won  \n",
            "..    ...  \n",
            "70    Won  \n",
            "71    Won  \n",
            "72    Won  \n",
            "73    Won  \n",
            "74  Drawn  \n",
            "\n",
            "[75 rows x 9 columns]\n"
          ]
        }
      ]
    },
    {
      "cell_type": "code",
      "source": [],
      "metadata": {
        "id": "4PavuOKl7A25"
      },
      "execution_count": null,
      "outputs": []
    }
  ]
}